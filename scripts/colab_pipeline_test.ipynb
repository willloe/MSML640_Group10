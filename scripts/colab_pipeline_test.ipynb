{
 "cells": [
  {
   "cell_type": "code",
   "execution_count": null,
   "id": "ad731da1",
   "metadata": {
    "vscode": {
     "languageId": "plaintext"
    }
   },
   "outputs": [],
   "source": [
    "import os\n",
    "import sys\n",
    "import subprocess\n",
    "import json\n",
    "import textwrap\n",
    "import pathlib\n",
    "\n",
    "REPO_URL = \"https://github.com/willloe/MSML640_Group10.git\"\n",
    "REPO_DIR = \"/content/MSML640_Group10\"\n",
    "\n",
    "if not pathlib.Path(REPO_DIR).exists():\n",
    "    subprocess.run([\"git\", \"clone\", REPO_URL, REPO_DIR], check=True)\n",
    "else:\n",
    "    print(\"Repo already present; pulling latest...\")\n",
    "    subprocess.run([\"git\", \"-C\", REPO_DIR, \"pull\", \"--ff-only\"], check=True)\n",
    "\n",
    "subprocess.run(\n",
    "    [\"pip\", \"install\", \"-q\", \"-r\", f\"{REPO_DIR}/requirements.txt\"],\n",
    "    check=True\n",
    ")\n",
    "\n",
    "SRC = f\"{REPO_DIR}/packages/diffusion/src\"\n",
    "if SRC not in sys.path:\n",
    "    sys.path.append(SRC)\n",
    "\n",
    "import torch\n",
    "print(\"CUDA available:\", torch.cuda.is_available())\n",
    "print(\"CUDA device name:\", torch.cuda.get_device_name(0) if torch.cuda.is_available() else \"CPU\")\n",
    "\n",
    "print(\"\\nSmoke_sdxl_load\")\n",
    "subprocess.run([\"python\", f\"{REPO_DIR}/scripts/smoke_sdxl_load.py\"], check=False)\n",
    "\n",
    "print(\"\\nSmoke_synthetic\")\n",
    "subprocess.run([\"python\", f\"{REPO_DIR}/scripts/smoke_synthetic.py\"], check=False)\n",
    "\n",
    "print(\"\\nSmoke_infer\")\n",
    "subprocess.run([\"python\", f\"{REPO_DIR}/scripts/smoke_infer.py\"], check=False)\n",
    "\n",
    "print(\"\\nCompleted. Check /content/MSML640_Group10/outputs for images.\")"
   ]
  }
 ],
 "metadata": {
  "language_info": {
   "name": "python"
  }
 },
 "nbformat": 4,
 "nbformat_minor": 5
}
